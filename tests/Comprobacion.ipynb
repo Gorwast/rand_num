{
 "cells": [
  {
   "cell_type": "code",
   "execution_count": 1,
   "id": "3d0e407f-e5db-4d9c-9af3-237992caeca1",
   "metadata": {},
   "outputs": [],
   "source": [
    "# Las siguientes líneas importan las librerías numpy y datascience\n",
    "import numpy as np\n",
    "from datascience import *\n",
    "from datetime import datetime\n",
    "import random_numbers as rand\n",
    "\n",
    "# Estas líneas configuran lo necesario para poder trabajar con graficas\n",
    "import matplotlib\n",
    "%matplotlib inline\n",
    "import matplotlib.pyplot as plots\n",
    "plots.style.use('fivethirtyeight')"
   ]
  },
  {
   "cell_type": "code",
   "execution_count": 2,
   "id": "e3276415-6ac4-40c1-8a24-5a747d610492",
   "metadata": {},
   "outputs": [],
   "source": [
    "def histograma(t):\n",
    "    numero = t.column('numero_en_rango')\n",
    "    numero_bin = ((max(numero) - min(numero)) / 1).astype(np.int64)\n",
    "    \n",
    "\n",
    "    t.hist('numero_en_rango',unit='unit')\n",
    "\n",
    "    return numero_bin"
   ]
  },
  {
   "cell_type": "code",
   "execution_count": 8,
   "id": "a79af42f-b92e-4349-addc-66cc128c22fe",
   "metadata": {},
   "outputs": [
    {
     "data": {
      "text/html": [
       "<table border=\"1\" class=\"dataframe\">\n",
       "    <thead>\n",
       "        <tr>\n",
       "            <th>id</th> <th>numero_normal</th> <th>numero_en_rango</th>\n",
       "        </tr>\n",
       "    </thead>\n",
       "    <tbody>\n",
       "        <tr>\n",
       "            <td>0   </td> <td>0.180354     </td> <td>10.6784        </td>\n",
       "        </tr>\n",
       "        <tr>\n",
       "            <td>1   </td> <td>0.828163     </td> <td>45.4455        </td>\n",
       "        </tr>\n",
       "        <tr>\n",
       "            <td>2   </td> <td>0.339053     </td> <td>19.1956        </td>\n",
       "        </tr>\n",
       "    </tbody>\n",
       "</table>\n",
       "<p>... (9997 rows omitted)</p>"
      ],
      "text/plain": [
       "<IPython.core.display.HTML object>"
      ]
     },
     "metadata": {},
     "output_type": "display_data"
    }
   ],
   "source": [
    "numeros_aleatorios = Table().read_table(\"numeros_aleatorios.csv\")\n",
    "numeros_aleatorios.show(3)"
   ]
  },
  {
   "cell_type": "code",
   "execution_count": 9,
   "id": "f1df47f2-1306-470d-aaad-7aaf3702fbfd",
   "metadata": {},
   "outputs": [
    {
     "data": {
      "text/plain": [
       "98"
      ]
     },
     "execution_count": 9,
     "metadata": {},
     "output_type": "execute_result"
    },
    {
     "data": {
      "image/png": "[encoded data removed]",
      "text/plain": [
       "<Figure size 432x288 with 1 Axes>"
      ]
     },
     "metadata": {},
     "output_type": "display_data"
    }
   ],
   "source": [
    "histograma(numeros_aleatorios)\n"
   ]
  },
  {
   "cell_type": "code",
   "execution_count": null,
   "id": "2b3b3671-055d-4162-bd55-d6a23c1579d7",
   "metadata": {},
   "outputs": [],
   "source": []
  }
 ],
 "metadata": {
  "kernelspec": {
   "display_name": "Python 3 (ipykernel)",
   "language": "python",
   "name": "python3"
  },
  "language_info": {
   "codemirror_mode": {
    "name": "ipython",
    "version": 3
   },
   "file_extension": ".py",
   "mimetype": "text/x-python",
   "name": "python",
   "nbconvert_exporter": "python",
   "pygments_lexer": "ipython3",
   "version": "3.9.7"
  }
 },
 "nbformat": 4,
 "nbformat_minor": 5
}
